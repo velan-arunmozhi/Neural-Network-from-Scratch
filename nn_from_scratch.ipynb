{
 "cells": [
  {
   "cell_type": "markdown",
   "id": "9a3c5abc-82fd-48fb-9f06-e976264aa768",
   "metadata": {},
   "source": [
    "# Neural Network from Scratch"
   ]
  },
  {
   "cell_type": "markdown",
   "id": "82caa85c-1f53-48c7-b7b1-52211d101f7c",
   "metadata": {},
   "source": [
    "I implemented a neural network from scratch using NumPy and the relevant math(linear alegebra and calculus) to classify digits from the MNIST dataset. I only used Keras to load in the dataset."
   ]
  },
  {
   "cell_type": "code",
   "execution_count": 1,
   "id": "f937685a-d46b-41f5-b29b-d74a3afc02b6",
   "metadata": {
    "editable": true,
    "slideshow": {
     "slide_type": ""
    },
    "tags": []
   },
   "outputs": [],
   "source": [
    "import numpy as np\n",
    "from keras.datasets import mnist\n",
    "import matplotlib.pyplot as plt\n",
    "import random"
   ]
  },
  {
   "cell_type": "code",
   "execution_count": 2,
   "id": "6fdf1a16-8b25-4ed2-bef4-4181c15de2c7",
   "metadata": {},
   "outputs": [],
   "source": [
    "(X_train, y_train), (X_test, y_test) = mnist.load_data()\n",
    "X_train, X_test = X_train/255., X_test/255."
   ]
  },
  {
   "cell_type": "code",
   "execution_count": 3,
   "id": "c4acf92f-adc3-4ee1-a698-e095d70101d5",
   "metadata": {
    "scrolled": true
   },
   "outputs": [
    {
     "data": {
      "image/png": "[encoded data removed]",
      "text/plain": [
       "<Figure size 640x480 with 1 Axes>"
      ]
     },
     "metadata": {},
     "output_type": "display_data"
    }
   ],
   "source": [
    "plt.imshow(X_train[45])\n",
    "plt.axis('off')\n",
    "plt.title(y_train[45])\n",
    "plt.show()"
   ]
  },
  {
   "cell_type": "code",
   "execution_count": 4,
   "id": "2752c9de-e0d4-49ec-ba6e-ee76a229f4a0",
   "metadata": {},
   "outputs": [
    {
     "data": {
      "text/plain": [
       "(784, 60000)"
      ]
     },
     "execution_count": 4,
     "metadata": {},
     "output_type": "execute_result"
    }
   ],
   "source": [
    "X_train, X_test = X_train.T, X_test.T\n",
    "(n, _, m) = X_train.shape\n",
    "X_train = X_train.reshape(n*n, m)\n",
    "X_train.shape"
   ]
  },
  {
   "cell_type": "code",
   "execution_count": 5,
   "id": "25cea763-41c3-46e9-8ecc-c20c3b383302",
   "metadata": {},
   "outputs": [
    {
     "data": {
      "text/plain": [
       "array([5, 0, 4, ..., 5, 6, 8], dtype=uint8)"
      ]
     },
     "execution_count": 5,
     "metadata": {},
     "output_type": "execute_result"
    }
   ],
   "source": [
    "y_train"
   ]
  },
  {
   "cell_type": "markdown",
   "id": "f11e58f0-f804-48db-b422-d97241959e2c",
   "metadata": {},
   "source": [
    "The following functions create the neural network and train it on the training datset via forward propagation, backpropagation, and gradient descent. "
   ]
  },
  {
   "cell_type": "code",
   "execution_count": 6,
   "id": "9871186e-53ac-4b3a-ad38-7b7a62c223e5",
   "metadata": {},
   "outputs": [],
   "source": [
    "def init_parameters(nn_layers):\n",
    "    W1 = np.random.rand(nn_layers[1], nn_layers[0]) - 0.5\n",
    "    b1 = np.random.rand(nn_layers[1], 1) - 0.5\n",
    "    W2 = np.random.rand(nn_layers[2], nn_layers[1]) - 0.5\n",
    "    b2 = np.random.rand(nn_layers[2], 1) - 0.5\n",
    "    W3 = np.random.rand(nn_layers[3], nn_layers[2]) - 0.5\n",
    "    b3 = np.random.rand(nn_layers[3], 1) - 0.5\n",
    "    return W1, b1, W2, b2, W3, b3\n",
    "\n",
    "def ReLU(Z):\n",
    "    return np.maximum(Z, 0)\n",
    "\n",
    "def softmax(Z):\n",
    "    output = np.exp(Z) / sum(np.exp(Z))\n",
    "    return output\n",
    "\n",
    "def forward_prop(W1, b1, W2, b2, W3, b3, X):\n",
    "    Z1 = W1.dot(X) + b1\n",
    "    A1 = ReLU(Z1)\n",
    "    Z2 = W2.dot(A1) + b2\n",
    "    A2 = ReLU(Z2)\n",
    "    Z3 = W3.dot(A2) + b3\n",
    "    A3 = softmax(Z3)\n",
    "    return Z1, A1, Z2, A2, Z3, A3\n",
    "\n",
    "def one_hot_encode(y):\n",
    "    encoded_y = np.zeros((y.size, y.max()+1))\n",
    "    encoded_y[np.arange(y.size), y] = 1\n",
    "    return encoded_y.T\n",
    "\n",
    "def ReLU_derivative(Z):\n",
    "    Z[Z<=0] = 0\n",
    "    Z[Z>0] = 1\n",
    "    return Z\n",
    "\n",
    "def backward_prop(A1, Z1, A2, Z2, A3, Z3, W3, W2, X, y):\n",
    "    dZ3 = A3 - one_hot_encode(y)\n",
    "    dW3 = 1 / m * dZ3.dot(A2.T)\n",
    "    db3 = 1 / m * np.sum(dZ3)\n",
    "    \n",
    "    dZ2 = W3.T.dot(dZ3) * ReLU_derivative(Z2)\n",
    "    dW2 = 1 / m * dZ2.dot(A1.T)\n",
    "    db2 = 1 / m * np.sum(dZ2)\n",
    "    \n",
    "    dZ1 = W2.T.dot(dZ2) * ReLU_derivative(Z1)\n",
    "    dW1 = 1 / m * dZ1.dot(X.T)\n",
    "    db1 = 1 / m * np.sum(dZ1)\n",
    "    return dW1, db1, dW2, db2, dW3, db3\n",
    "\n",
    "def update_parameters(W1, b1, W2, b2, W3, b3, dW1, db1, dW2, db2, dW3, db3, alpha):\n",
    "    W1 = W1 - alpha * dW1\n",
    "    b1 = b1 - alpha * db1\n",
    "    W2 = W2 - alpha * dW2\n",
    "    b2 = b2 - alpha * db2\n",
    "    W3 = W3 - alpha * dW3\n",
    "    b3 = b3 - alpha * db3\n",
    "    return W1, b1, W2, b2, W3, b3"
   ]
  },
  {
   "cell_type": "code",
   "execution_count": 7,
   "id": "8ec9a6a0-6b4c-411f-8888-2432249d9c10",
   "metadata": {},
   "outputs": [],
   "source": [
    "def predictions(A3):\n",
    "    predictions = np.argmax(A3, 0)\n",
    "    return predictions\n",
    "\n",
    "def accuracy(A3, y):\n",
    "    preds = predictions(A3)\n",
    "    return np.sum(preds == y) / y.size\n",
    "    \n",
    "def gradient_descent(X, y, nn_layers, alpha, epochs):\n",
    "    W1, b1, W2, b2, W3, b3 = init_parameters(nn_layers)\n",
    "    for i in range(epochs):\n",
    "        Z1, A1, Z2, A2, Z3, A3 = forward_prop(W1, b1, W2, b2, W3, b3, X)\n",
    "        dW1, db1, dW2, db2, dW3, db3 = backward_prop(A1, Z1, A2, Z2, A3, Z3, W3, W2, X, y)\n",
    "        W1, b1, W2, b2, W3, b3 = update_parameters(W1, b1, W2, b2, W3, b3, dW1, db1, dW2, db2, dW3, db3, alpha)\n",
    "        if i % 10 == 0:\n",
    "            print(f\"Epoch: {i}/{epochs}\")\n",
    "            print(predictions(A3), y)\n",
    "            acc = accuracy(A3, y)\n",
    "            print(f\"Accuracy: {acc}\")\n",
    "    return W1, b1, W2, b2, W3, b3"
   ]
  },
  {
   "cell_type": "code",
   "execution_count": 8,
   "id": "bfb0b530-4811-42e0-a8f5-8558b656bfe1",
   "metadata": {},
   "outputs": [
    {
     "name": "stdout",
     "output_type": "stream",
     "text": [
      "Epoch: 0/500\n",
      "[9 4 9 ... 9 7 4] [5 0 4 ... 5 6 8]\n",
      "Accuracy: 0.11828333333333334\n",
      "Epoch: 10/500\n",
      "[8 0 3 ... 1 0 8] [5 0 4 ... 5 6 8]\n",
      "Accuracy: 0.39765\n",
      "Epoch: 20/500\n",
      "[6 0 3 ... 3 0 8] [5 0 4 ... 5 6 8]\n",
      "Accuracy: 0.53365\n",
      "Epoch: 30/500\n",
      "[6 0 3 ... 3 0 8] [5 0 4 ... 5 6 8]\n",
      "Accuracy: 0.6118\n",
      "Epoch: 40/500\n",
      "[6 0 3 ... 5 0 8] [5 0 4 ... 5 6 8]\n",
      "Accuracy: 0.6648833333333334\n",
      "Epoch: 50/500\n",
      "[6 0 3 ... 5 0 8] [5 0 4 ... 5 6 8]\n",
      "Accuracy: 0.7000166666666666\n",
      "Epoch: 60/500\n",
      "[6 0 3 ... 5 0 8] [5 0 4 ... 5 6 8]\n",
      "Accuracy: 0.7276\n",
      "Epoch: 70/500\n",
      "[6 0 3 ... 5 0 8] [5 0 4 ... 5 6 8]\n",
      "Accuracy: 0.74845\n",
      "Epoch: 80/500\n",
      "[5 0 3 ... 5 0 8] [5 0 4 ... 5 6 8]\n",
      "Accuracy: 0.7654666666666666\n",
      "Epoch: 90/500\n",
      "[5 0 3 ... 5 0 8] [5 0 4 ... 5 6 8]\n",
      "Accuracy: 0.7801666666666667\n",
      "Epoch: 100/500\n",
      "[5 0 3 ... 5 0 8] [5 0 4 ... 5 6 8]\n",
      "Accuracy: 0.7923666666666667\n",
      "Epoch: 110/500\n",
      "[5 0 3 ... 5 0 8] [5 0 4 ... 5 6 8]\n",
      "Accuracy: 0.8028166666666666\n",
      "Epoch: 120/500\n",
      "[5 0 3 ... 5 0 8] [5 0 4 ... 5 6 8]\n",
      "Accuracy: 0.8114666666666667\n",
      "Epoch: 130/500\n",
      "[5 0 4 ... 5 0 8] [5 0 4 ... 5 6 8]\n",
      "Accuracy: 0.8195333333333333\n",
      "Epoch: 140/500\n",
      "[3 0 4 ... 5 6 8] [5 0 4 ... 5 6 8]\n",
      "Accuracy: 0.82645\n",
      "Epoch: 150/500\n",
      "[3 0 4 ... 5 6 8] [5 0 4 ... 5 6 8]\n",
      "Accuracy: 0.8321666666666667\n",
      "Epoch: 160/500\n",
      "[3 0 4 ... 5 6 8] [5 0 4 ... 5 6 8]\n",
      "Accuracy: 0.83795\n",
      "Epoch: 170/500\n",
      "[3 0 4 ... 5 6 8] [5 0 4 ... 5 6 8]\n",
      "Accuracy: 0.8430333333333333\n",
      "Epoch: 180/500\n",
      "[3 0 4 ... 5 6 8] [5 0 4 ... 5 6 8]\n",
      "Accuracy: 0.8473666666666667\n",
      "Epoch: 190/500\n",
      "[3 0 4 ... 5 6 8] [5 0 4 ... 5 6 8]\n",
      "Accuracy: 0.8515166666666667\n",
      "Epoch: 200/500\n",
      "[3 0 4 ... 5 6 8] [5 0 4 ... 5 6 8]\n",
      "Accuracy: 0.8554666666666667\n",
      "Epoch: 210/500\n",
      "[3 0 4 ... 5 6 8] [5 0 4 ... 5 6 8]\n",
      "Accuracy: 0.8588666666666667\n",
      "Epoch: 220/500\n",
      "[5 0 4 ... 5 6 8] [5 0 4 ... 5 6 8]\n",
      "Accuracy: 0.8617\n",
      "Epoch: 230/500\n",
      "[5 0 4 ... 5 6 8] [5 0 4 ... 5 6 8]\n",
      "Accuracy: 0.86495\n",
      "Epoch: 240/500\n",
      "[5 0 4 ... 5 6 8] [5 0 4 ... 5 6 8]\n",
      "Accuracy: 0.8680333333333333\n",
      "Epoch: 250/500\n",
      "[5 0 4 ... 5 6 8] [5 0 4 ... 5 6 8]\n",
      "Accuracy: 0.8707833333333334\n",
      "Epoch: 260/500\n",
      "[5 0 4 ... 5 6 8] [5 0 4 ... 5 6 8]\n",
      "Accuracy: 0.8733\n",
      "Epoch: 270/500\n",
      "[5 0 4 ... 5 6 8] [5 0 4 ... 5 6 8]\n",
      "Accuracy: 0.8751833333333333\n",
      "Epoch: 280/500\n",
      "[5 0 4 ... 5 6 8] [5 0 4 ... 5 6 8]\n",
      "Accuracy: 0.8774666666666666\n",
      "Epoch: 290/500\n",
      "[5 0 4 ... 5 6 8] [5 0 4 ... 5 6 8]\n",
      "Accuracy: 0.87945\n",
      "Epoch: 300/500\n",
      "[5 0 4 ... 5 6 8] [5 0 4 ... 5 6 8]\n",
      "Accuracy: 0.8815666666666667\n",
      "Epoch: 310/500\n",
      "[5 0 4 ... 5 6 8] [5 0 4 ... 5 6 8]\n",
      "Accuracy: 0.8835\n",
      "Epoch: 320/500\n",
      "[5 0 4 ... 5 6 8] [5 0 4 ... 5 6 8]\n",
      "Accuracy: 0.8854833333333333\n",
      "Epoch: 330/500\n",
      "[5 0 4 ... 5 6 8] [5 0 4 ... 5 6 8]\n",
      "Accuracy: 0.8870666666666667\n",
      "Epoch: 340/500\n",
      "[5 0 4 ... 5 6 8] [5 0 4 ... 5 6 8]\n",
      "Accuracy: 0.8888166666666667\n",
      "Epoch: 350/500\n",
      "[5 0 4 ... 5 6 8] [5 0 4 ... 5 6 8]\n",
      "Accuracy: 0.8903166666666666\n",
      "Epoch: 360/500\n",
      "[5 0 4 ... 5 6 8] [5 0 4 ... 5 6 8]\n",
      "Accuracy: 0.8920166666666667\n",
      "Epoch: 370/500\n",
      "[5 0 4 ... 5 6 8] [5 0 4 ... 5 6 8]\n",
      "Accuracy: 0.8934166666666666\n",
      "Epoch: 380/500\n",
      "[5 0 4 ... 5 6 8] [5 0 4 ... 5 6 8]\n",
      "Accuracy: 0.8949166666666667\n",
      "Epoch: 390/500\n",
      "[5 0 4 ... 5 6 8] [5 0 4 ... 5 6 8]\n",
      "Accuracy: 0.8962833333333333\n",
      "Epoch: 400/500\n",
      "[5 0 4 ... 5 6 8] [5 0 4 ... 5 6 8]\n",
      "Accuracy: 0.8976166666666666\n",
      "Epoch: 410/500\n",
      "[5 0 4 ... 5 6 8] [5 0 4 ... 5 6 8]\n",
      "Accuracy: 0.89865\n",
      "Epoch: 420/500\n",
      "[5 0 4 ... 5 6 8] [5 0 4 ... 5 6 8]\n",
      "Accuracy: 0.8998833333333334\n",
      "Epoch: 430/500\n",
      "[5 0 4 ... 5 6 8] [5 0 4 ... 5 6 8]\n",
      "Accuracy: 0.9012666666666667\n",
      "Epoch: 440/500\n",
      "[5 0 4 ... 5 6 8] [5 0 4 ... 5 6 8]\n",
      "Accuracy: 0.90235\n",
      "Epoch: 450/500\n",
      "[5 0 4 ... 5 6 8] [5 0 4 ... 5 6 8]\n",
      "Accuracy: 0.9036\n",
      "Epoch: 460/500\n",
      "[5 0 4 ... 5 6 8] [5 0 4 ... 5 6 8]\n",
      "Accuracy: 0.90475\n",
      "Epoch: 470/500\n",
      "[5 0 4 ... 5 6 8] [5 0 4 ... 5 6 8]\n",
      "Accuracy: 0.9056833333333333\n",
      "Epoch: 480/500\n",
      "[5 0 4 ... 5 6 8] [5 0 4 ... 5 6 8]\n",
      "Accuracy: 0.9064833333333333\n",
      "Epoch: 490/500\n",
      "[5 0 4 ... 5 6 8] [5 0 4 ... 5 6 8]\n",
      "Accuracy: 0.9073666666666667\n"
     ]
    }
   ],
   "source": [
    "nn_layers = [784, 128, 64, 10]\n",
    "W1, b1, W2, b2, W3, b3 = gradient_descent(X_train, y_train, nn_layers, 0.1, 500)"
   ]
  },
  {
   "cell_type": "markdown",
   "id": "d4eb8b31-a7d3-48ad-8aa8-35046b2136e1",
   "metadata": {},
   "source": [
    "~91% accuracy on the training dataset"
   ]
  },
  {
   "cell_type": "markdown",
   "id": "791da954-6b80-49dc-b32f-f83eef9929c9",
   "metadata": {},
   "source": [
    "The following functions are used to predict the labels for the test dataset."
   ]
  },
  {
   "cell_type": "code",
   "execution_count": 9,
   "id": "df72de27-cec4-4993-b28b-c92cd9610741",
   "metadata": {},
   "outputs": [],
   "source": [
    "def test_predictions(W1, b1, W2, b2, W3, b3, X, y):\n",
    "    _, _, _, _, _, A3 = forward_prop(W1, b1, W2, b2, W3, b3, X)\n",
    "    pred = predictions(A3)\n",
    "    print(pred, y)\n",
    "    acc = accuracy(A3, y)\n",
    "    print(f\"Accuracy: {acc}\")\n",
    "    return pred\n",
    "\n",
    "def display(pred, X, y, i):\n",
    "    print(f\"Predicted Number: {pred[i]}\")\n",
    "    print(f\"Actual Number: {y[i]}\")\n",
    "    img = X[:, i].reshape(n, n).T\n",
    "    plt.imshow(img)\n",
    "    plt.axis('off')\n",
    "    plt.show()"
   ]
  },
  {
   "cell_type": "code",
   "execution_count": 10,
   "id": "9f048f45-07ff-4fe4-9907-9c656088cb12",
   "metadata": {},
   "outputs": [],
   "source": [
    "(n, _, m) = X_test.shape\n",
    "X_test = X_test.reshape(n*n, m)"
   ]
  },
  {
   "cell_type": "code",
   "execution_count": 11,
   "id": "6e06f9b1-ad54-4ed0-a5fb-3ccf6df7b52f",
   "metadata": {},
   "outputs": [
    {
     "name": "stdout",
     "output_type": "stream",
     "text": [
      "[7 3 1 ... 4 5 6] [7 2 1 ... 4 5 6]\n",
      "Accuracy: 0.9056\n"
     ]
    }
   ],
   "source": [
    "final_pred = test_predictions(W1, b1, W2, b2, W3, b3, X_test, y_test)"
   ]
  },
  {
   "cell_type": "markdown",
   "id": "e5f76cb4-9f42-46da-a936-53ada74b8bbe",
   "metadata": {},
   "source": [
    "Correctly labels the test dataset ~91% of the time"
   ]
  },
  {
   "cell_type": "code",
   "execution_count": 12,
   "id": "755a15ce-f5d0-4d66-a573-b94910b754d2",
   "metadata": {},
   "outputs": [
    {
     "name": "stdout",
     "output_type": "stream",
     "text": [
      "Predicted Number: 8\n",
      "Actual Number: 8\n"
     ]
    },
    {
     "data": {
      "image/png": "[encoded data removed]",
      "text/plain": [
       "<Figure size 640x480 with 1 Axes>"
      ]
     },
     "metadata": {},
     "output_type": "display_data"
    },
    {
     "name": "stdout",
     "output_type": "stream",
     "text": [
      "Predicted Number: 0\n",
      "Actual Number: 0\n"
     ]
    },
    {
     "data": {
      "image/png": "[encoded data removed]",
      "text/plain": [
       "<Figure size 640x480 with 1 Axes>"
      ]
     },
     "metadata": {},
     "output_type": "display_data"
    },
    {
     "name": "stdout",
     "output_type": "stream",
     "text": [
      "Predicted Number: 7\n",
      "Actual Number: 7\n"
     ]
    },
    {
     "data": {
      "image/png": "[encoded data removed]",
      "text/plain": [
       "<Figure size 640x480 with 1 Axes>"
      ]
     },
     "metadata": {},
     "output_type": "display_data"
    },
    {
     "name": "stdout",
     "output_type": "stream",
     "text": [
      "Predicted Number: 4\n",
      "Actual Number: 4\n"
     ]
    },
    {
     "data": {
      "image/png": "[encoded data removed]",
      "text/plain": [
       "<Figure size 640x480 with 1 Axes>"
      ]
     },
     "metadata": {},
     "output_type": "display_data"
    },
    {
     "name": "stdout",
     "output_type": "stream",
     "text": [
      "Predicted Number: 4\n",
      "Actual Number: 4\n"
     ]
    },
    {
     "data": {
      "image/png": "[encoded data removed]",
      "text/plain": [
       "<Figure size 640x480 with 1 Axes>"
      ]
     },
     "metadata": {},
     "output_type": "display_data"
    }
   ],
   "source": [
    "for i in range(5):\n",
    "    display(final_pred, X_test, y_test, random.randint(0, m))"
   ]
  }
 ],
 "metadata": {
  "kernelspec": {
   "display_name": "Python 3 (ipykernel)",
   "language": "python",
   "name": "python3"
  },
  "language_info": {
   "codemirror_mode": {
    "name": "ipython",
    "version": 3
   },
   "file_extension": ".py",
   "mimetype": "text/x-python",
   "name": "python",
   "nbconvert_exporter": "python",
   "pygments_lexer": "ipython3",
   "version": "3.12.4"
  }
 },
 "nbformat": 4,
 "nbformat_minor": 5
}
